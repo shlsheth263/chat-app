{
 "cells": [
  {
   "cell_type": "code",
   "execution_count": 1,
   "metadata": {},
   "outputs": [],
   "source": [
    "import pandas as pd\n",
    "#Math functions, we'll only need the sqrt function so let's import only that\n",
    "from math import sqrt\n",
    "import numpy as np\n",
    "import matplotlib.pyplot as plt\n",
    "%matplotlib inline"
   ]
  },
  {
   "cell_type": "code",
   "execution_count": 2,
   "metadata": {},
   "outputs": [],
   "source": [
    "rec1 = pd.read_csv(\"mpdata - rec1.csv\")"
   ]
  },
  {
   "cell_type": "code",
   "execution_count": 3,
   "metadata": {},
   "outputs": [],
   "source": [
    "rec2 = pd.read_csv(\"mpdata - rec2.csv\")"
   ]
  },
  {
   "cell_type": "code",
   "execution_count": 4,
   "metadata": {},
   "outputs": [],
   "source": [
    "userProfile = rec2.transpose().dot(rec1['fulfilment'])"
   ]
  },
  {
   "cell_type": "code",
   "execution_count": 5,
   "metadata": {},
   "outputs": [
    {
     "data": {
      "text/plain": [
       "input_id           12.210000\n",
       "intial_welcome      1.581239\n",
       "name                1.343076\n",
       "addTask             2.643887\n",
       "createSchedule      3.059222\n",
       "displaySchedule     2.683589\n",
       "removeTask          2.717639\n",
       "addExam             2.034828\n",
       "removeExam          1.964641\n",
       "dtype: float64"
      ]
     },
     "execution_count": 5,
     "metadata": {},
     "output_type": "execute_result"
    }
   ],
   "source": [
    "userProfile"
   ]
  },
  {
   "cell_type": "code",
   "execution_count": 6,
   "metadata": {},
   "outputs": [],
   "source": [
    "rec3 = rec2.drop(\"input_id\", axis = 1)"
   ]
  },
  {
   "cell_type": "code",
   "execution_count": 7,
   "metadata": {},
   "outputs": [
    {
     "data": {
      "text/html": [
       "<div>\n",
       "<style scoped>\n",
       "    .dataframe tbody tr th:only-of-type {\n",
       "        vertical-align: middle;\n",
       "    }\n",
       "\n",
       "    .dataframe tbody tr th {\n",
       "        vertical-align: top;\n",
       "    }\n",
       "\n",
       "    .dataframe thead th {\n",
       "        text-align: right;\n",
       "    }\n",
       "</style>\n",
       "<table border=\"1\" class=\"dataframe\">\n",
       "  <thead>\n",
       "    <tr style=\"text-align: right;\">\n",
       "      <th></th>\n",
       "      <th>intial_welcome</th>\n",
       "      <th>name</th>\n",
       "      <th>addTask</th>\n",
       "      <th>createSchedule</th>\n",
       "      <th>displaySchedule</th>\n",
       "      <th>removeTask</th>\n",
       "      <th>addExam</th>\n",
       "      <th>removeExam</th>\n",
       "    </tr>\n",
       "  </thead>\n",
       "  <tbody>\n",
       "    <tr>\n",
       "      <th>0</th>\n",
       "      <td>0.001000</td>\n",
       "      <td>0.000100</td>\n",
       "      <td>0.973540</td>\n",
       "      <td>0.890000</td>\n",
       "      <td>0.131104</td>\n",
       "      <td>0.874796</td>\n",
       "      <td>0.465310</td>\n",
       "      <td>0.211849</td>\n",
       "    </tr>\n",
       "    <tr>\n",
       "      <th>1</th>\n",
       "      <td>0.605197</td>\n",
       "      <td>0.720439</td>\n",
       "      <td>0.639647</td>\n",
       "      <td>0.174177</td>\n",
       "      <td>0.910000</td>\n",
       "      <td>0.952183</td>\n",
       "      <td>0.135056</td>\n",
       "      <td>0.749933</td>\n",
       "    </tr>\n",
       "    <tr>\n",
       "      <th>2</th>\n",
       "      <td>0.177633</td>\n",
       "      <td>0.532413</td>\n",
       "      <td>0.635819</td>\n",
       "      <td>0.726932</td>\n",
       "      <td>0.970000</td>\n",
       "      <td>0.544282</td>\n",
       "      <td>0.553026</td>\n",
       "      <td>0.322570</td>\n",
       "    </tr>\n",
       "    <tr>\n",
       "      <th>3</th>\n",
       "      <td>0.457852</td>\n",
       "      <td>0.387551</td>\n",
       "      <td>0.020618</td>\n",
       "      <td>0.982705</td>\n",
       "      <td>0.469474</td>\n",
       "      <td>0.294132</td>\n",
       "      <td>0.830000</td>\n",
       "      <td>0.821684</td>\n",
       "    </tr>\n",
       "    <tr>\n",
       "      <th>4</th>\n",
       "      <td>0.780040</td>\n",
       "      <td>0.024851</td>\n",
       "      <td>0.890000</td>\n",
       "      <td>0.882805</td>\n",
       "      <td>0.802933</td>\n",
       "      <td>0.643510</td>\n",
       "      <td>0.456200</td>\n",
       "      <td>0.364228</td>\n",
       "    </tr>\n",
       "  </tbody>\n",
       "</table>\n",
       "</div>"
      ],
      "text/plain": [
       "   intial_welcome      name   addTask  createSchedule  displaySchedule  \\\n",
       "0        0.001000  0.000100  0.973540        0.890000         0.131104   \n",
       "1        0.605197  0.720439  0.639647        0.174177         0.910000   \n",
       "2        0.177633  0.532413  0.635819        0.726932         0.970000   \n",
       "3        0.457852  0.387551  0.020618        0.982705         0.469474   \n",
       "4        0.780040  0.024851  0.890000        0.882805         0.802933   \n",
       "\n",
       "   removeTask   addExam  removeExam  \n",
       "0    0.874796  0.465310    0.211849  \n",
       "1    0.952183  0.135056    0.749933  \n",
       "2    0.544282  0.553026    0.322570  \n",
       "3    0.294132  0.830000    0.821684  \n",
       "4    0.643510  0.456200    0.364228  "
      ]
     },
     "execution_count": 7,
     "metadata": {},
     "output_type": "execute_result"
    }
   ],
   "source": [
    "rec3.head()"
   ]
  },
  {
   "cell_type": "code",
   "execution_count": 10,
   "metadata": {},
   "outputs": [],
   "source": [
    "recommendation = ((rec3*userProfile).sum()/(userProfile.sum()))"
   ]
  },
  {
   "cell_type": "code",
   "execution_count": 11,
   "metadata": {},
   "outputs": [
    {
     "data": {
      "text/plain": [
       "addExam            0.164169\n",
       "addTask            0.276264\n",
       "createSchedule     0.369944\n",
       "displaySchedule    0.291407\n",
       "input_id           0.000000\n",
       "intial_welcome     0.105722\n",
       "name               0.073969\n",
       "removeExam         0.160499\n",
       "removeTask         0.297386\n",
       "dtype: float64"
      ]
     },
     "execution_count": 11,
     "metadata": {},
     "output_type": "execute_result"
    }
   ],
   "source": [
    "recommendation"
   ]
  },
  {
   "cell_type": "code",
   "execution_count": null,
   "metadata": {},
   "outputs": [],
   "source": []
  }
 ],
 "metadata": {
  "kernelspec": {
   "display_name": "Python 3",
   "language": "python",
   "name": "python3"
  },
  "language_info": {
   "codemirror_mode": {
    "name": "ipython",
    "version": 3
   },
   "file_extension": ".py",
   "mimetype": "text/x-python",
   "name": "python",
   "nbconvert_exporter": "python",
   "pygments_lexer": "ipython3",
   "version": "3.7.3"
  }
 },
 "nbformat": 4,
 "nbformat_minor": 2
}
